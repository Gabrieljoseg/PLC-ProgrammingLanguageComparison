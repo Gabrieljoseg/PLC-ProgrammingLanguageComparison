{
  "nbformat": 4,
  "nbformat_minor": 0,
  "metadata": {
    "colab": {
      "provenance": []
    },
    "kernelspec": {
      "name": "python3",
      "display_name": "Python 3"
    },
    "language_info": {
      "name": "python"
    }
  },
  "cells": [
    {
      "cell_type": "markdown",
      "source": [
        "\n",
        "# PYTHON, JAVA E JAVASCRIPT, C#, TYPESCRIPT \n"
      ],
      "metadata": {
        "id": "fobzQf8GDarx"
      }
    },
    {
      "cell_type": "markdown",
      "source": [
        "##QUID EST? (O QUE É?)"
      ],
      "metadata": {
        "id": "_S3qhgbqcrWO"
      }
    },
    {
      "cell_type": "markdown",
      "source": [
        "### JAVASCRIPT \n",
        "\n",
        "> JavaScript é uma linguagem de script. Por ser uma linguagem de script, seu\n",
        "código deve ser executado dentro de um interpretador. O JavaScript, para ser interpretado, deverá ser executado dentro de um navegador (browser).\n",
        "\n",
        "\n",
        "### PYTHON\n",
        "\n",
        "> Python é uma linguagem de propósito geral e é usada em uma ampla variedade de áreas, desde desenvolvimento web até ciência de dados e inteligência artificial. Python é conhecida por sua grande biblioteca padrão e por sua comunidade de desenvolvedores ativa e colaborativa, o que a torna uma escolha popular entre programadores em todo o mundo.É também uma linguagem multiplataforma, o que significa que pode ser executada em diferentes sistemas operacionais, incluindo Windows, Mac OS, Linux e outros. Além disso, existem muitos ambientes de desenvolvimento integrado (IDEs) disponíveis para programadores Python, que ajudam a tornar o processo de codificação mais eficiente e produtivo.\n",
        "\n",
        "### JAVA\n",
        "\n",
        "> Java é uma linguagem de programação orientada a objetos, que foi desenvolvida pela Sun Microsystems (agora Oracle Corporation) na década de 1990. Ela é projetada para ser portátil, segura e escalável, tornando-a uma escolha popular para o desenvolvimento de aplicativos corporativos e de grande escala.\n",
        "É compilada em bytecode, que é executado na Máquina Virtual Java (JVM), um ambiente de execução que permite que o código Java seja executado em diferentes plataformas sem modificação. Isso significa que o mesmo código Java pode ser executado em sistemas operacionais diferentes, como Windows, Mac OS, Linux e outros. A linguagem Java é usada em uma ampla variedade de aplicações, incluindo desenvolvimento de aplicativos web, desenvolvimento de jogos, desenvolvimento móvel e outras aplicações empresariais. Ela é conhecida por sua segurança e confiabilidade, o que a torna uma escolha popular para o desenvolvimento de aplicativos críticos de segurança.\n",
        "Java é suportada por uma grande comunidade de desenvolvedores em todo o mundo, o que significa que existem muitos recursos e ferramentas disponíveis para desenvolvedores Java, incluindo IDEs, bibliotecas e frameworks."
      ],
      "metadata": {
        "id": "7aB0yaztczGC"
      }
    },
    {
      "cell_type": "markdown",
      "source": [
        "\n",
        "## PARA QUE ESSAS LINGUAGENS FORAM CRIADAS?"
      ],
      "metadata": {
        "id": "ttRaqELZGaYb"
      }
    },
    {
      "cell_type": "markdown",
      "source": [
        "### JAVASCRIPT\n",
        "\n",
        "> JavaScript foi criado em 1995 por Brendan Eich na Netscape Communications Corporation como uma linguagem de programação de script para páginas web interativas. Originalmente chamado de Mocha e depois renomeado para LiveScript, o nome final foi escolhido para capitalizar a popularidade da linguagem Java na época. O objetivo principal do JavaScript era permitir que desenvolvedores criassem sites interativos com recursos como formulários dinâmicos, menus suspensos, animações e outros efeitos visuais, sem a necessidade de enviar solicitações de servidor para processamento. Desde então, o JavaScript se tornou uma das linguagens de programação mais populares do mundo, usada para desenvolver aplicativos para a web, desktop e dispositivos móveis, além de ser usada em tecnologias como inteligência artificial, blockchain e IoT (Internet das Coisas)."
      ],
      "metadata": {
        "id": "sdsLcYHuGfHt"
      }
    },
    {
      "cell_type": "markdown",
      "source": [
        "### PYTHON \n",
        "\n",
        "> Python foi criado no final dos anos 1980 por Guido van Rossum, um programador holandês, com o objetivo de criar uma linguagem de programação fácil de aprender e usar. Van Rossum queria uma linguagem que enfatizasse a legibilidade do código, permitindo que os programadores escrevessem programas usando menos linhas de código do que em outras linguagens de programação, como C++ ou Java.\n",
        "Inicialmente, Python foi concebido como uma linguagem de script para automatizar tarefas administrativas e de sistema, mas com o tempo evoluiu para ser uma linguagem de programação completa e versátil, utilizada em uma ampla variedade de aplicações, desde desenvolvimento web até inteligência artificial, ciência de dados e automação de tarefas. Com sua sintaxe simples e legível, suporte a múltiplos paradigmas de programação (procedural, orientado a objetos e funcional) e vasta coleção de bibliotecas e módulos de terceiros, Python se tornou uma das linguagens de programação mais populares e utilizadas em todo o mundo."
      ],
      "metadata": {
        "id": "fuyaskcAICHk"
      }
    },
    {
      "cell_type": "markdown",
      "source": [
        "### JAVA \n",
        "\n",
        "> Java foi criado em meados dos anos 1990 por uma equipe de desenvolvedores liderada por James Gosling na Sun Microsystems (agora parte da Oracle Corporation). O objetivo principal era criar uma linguagem de programação portátil e robusta, que pudesse ser executada em diferentes plataformas de hardware e sistemas operacionais. A equipe de desenvolvimento da Sun Microsystems acreditava que a maioria das linguagens de programação da época era limitada em sua capacidade de portabilidade devido a diferenças de hardware e sistema operacional. Eles queriam criar uma linguagem que pudesse ser executada em qualquer lugar, sem a necessidade de reescrever o código para cada plataforma específica. Além disso, a equipe de desenvolvimento da Sun queria criar uma linguagem de programação que fosse segura e confiável, permitindo que os desenvolvedores criassem aplicativos robustos e de alta qualidade. Eles incorporaram recursos de segurança, como a execução de código em um ambiente de sandbox (caixa de areia) que impede que os aplicativos causem danos ao sistema em que são executados. Java tornou-se uma linguagem de programação popular para o desenvolvimento de aplicativos empresariais, aplicativos móveis, jogos, aplicativos de desktop, sistemas embarcados e muito mais, devido à sua portabilidade, segurança, confiabilidade e grande ecossistema de bibliotecas e ferramentas de desenvolvimento."
      ],
      "metadata": {
        "id": "2g0esuz-IIwd"
      }
    },
    {
      "cell_type": "markdown",
      "source": [
        "## COMO FUNCIONA?"
      ],
      "metadata": {
        "id": "QEewXq6hdGao"
      }
    },
    {
      "cell_type": "markdown",
      "source": [
        "### JAVASCRIPT\n",
        "\n",
        "1.  JavaScript é uma linguagem de programação de **alto nível**, interpretada e orientada a objetos. É uma linguagem de script executada pelos navegadores web que permite a interação com o usuário, manipulação do **DOM (Document Object Model)** e criação de aplicativos web interativos.\n",
        "\n",
        "2. A linguagem JavaScript é executada no cliente, ou seja, no navegador do usuário. Ela **é interpretada pelo navegador e executada diretamente na máquina do usuário. Isso significa que o código JavaScript é baixado junto com a página HTML e executado no computador do usuário.**\n",
        "\n",
        "3. O JavaScript pode ser incorporado diretamente em uma página HTML ou ser armazenado em um arquivo externo, que é referenciado na página HTML.  código é escrito em um arquivo de texto simples, com a extensão **.js.**\n",
        "\n",
        "4. Uma das principais características do JavaScript é que ela é uma linguagem orientada a eventos. Isso significa que a execução do código é disparada por eventos, como ações do usuário ou alterações no DOM. O JavaScript é capaz de detectar esses eventos e executar as ações apropriadas em resposta.\n",
        "\n",
        "\n",
        "### PYTHON \n",
        "\n",
        "1. Python é uma linguagem de programação de alto nível, interpretada e orientada a objetos.\n",
        "\n",
        "2. A sintaxe do Python é simples e fácil de aprender, o que a torna uma das linguagens mais populares entre iniciantes em programação. A linguagem é interpretada, o que significa que o código-fonte é traduzido para a linguagem de máquina durante a execução, e não é necessário compilar o código antes de executá-lo.\n",
        "\n",
        "3. A linguagem Python é orientada a objetos, o que significa que todo objeto possui propriedades e métodos associados. É possível criar classes, que são modelos para a criação de objetos, e instanciá-las para criar objetos específicos.\n",
        "\n",
        "4. Uma das características do Python é a sua ampla biblioteca padrão, que inclui módulos para tarefas comuns, como manipulação de arquivos, conexão com bancos de dados, manipulação de strings, entre outras.\n",
        "\n",
        "### JAVA \n",
        "\n",
        "1. A linguagem Java é compilada para bytecode, que é um código intermediário que é executado na máquina virtual Java (JVM). Isso significa que o código fonte em Java é compilado para bytecode, que é interpretado pela JVM. A JVM converte o bytecode em código de máquina específico para a plataforma em que está sendo executada.\n",
        "\n",
        "2. orientada a objetos e fortemente tipada\n",
        "\n",
        "3. Java é orientada a objetos, o que significa que tudo em Java é um objeto, com suas próprias propriedades e métodos. A linguagem também suporta herança e polimorfismo, permitindo a criação de classes que herdam características de outras classes e que podem ter diferentes comportamentos, dependendo do contexto em que são usadas.\n",
        "\n",
        "4. Uma das principais características do Java é a sua segurança. A JVM isola o código Java do sistema operacional subjacente, o que torna a execução de código Java mais segura do que outras linguagens de programação. Além disso, a linguagem Java é usada em muitos sistemas críticos, como sistemas bancários e de comércio eletrônico, devido à sua confiabilidade e estabilidade.\n",
        "\n"
      ],
      "metadata": {
        "id": "cEu84J-CeQLN"
      }
    },
    {
      "cell_type": "markdown",
      "source": [
        "## CONCEITOS INICIAIS\n"
      ],
      "metadata": {
        "id": "k3KlkYl1ItgV"
      }
    },
    {
      "cell_type": "markdown",
      "source": [
        "### DADOS | INFORMAÇÃO | CONHECIMENTO \n",
        "\n",
        "Dado, informação e conhecimento são termos relacionados, mas que têm significados diferentes.\n",
        "\n",
        "> **Dado** é um elemento bruto e sem sentido em si mesmo, como um número ou uma letra, que pode ser coletado e armazenado.\n",
        "\n",
        "> **Informação** é o resultado do processamento e interpretação dos dados, dando-lhes um contexto e um significado. A informação é a organização e estruturação dos dados para torná-los úteis.\n",
        "\n",
        "> **Conhecimento** é um nível mais alto de compreensão, que é construído a partir da informação, juntamente com a experiência, habilidade e compreensão do indivíduo. O conhecimento é a capacidade de utilizar a informação de maneira eficaz para resolver problemas, tomar decisões e criar novas ideias.\n",
        "\n",
        "Em resumo, dado é a matéria-prima, informação é o resultado do processamento dos dados e conhecimento é a capacidade de utilizar a informação de maneira significativa."
      ],
      "metadata": {
        "id": "xnaxAEQtWg_p"
      }
    },
    {
      "cell_type": "markdown",
      "source": [
        "###TIPOS DE DADOS\n",
        "\n",
        "Existem diversos tipos de dados que podem ser utilizados na ciência da computação, sendo alguns dos mais comuns:\n",
        "\n",
        "> **Números inteiros (int):** números positivos ou negativos sem frações ou decimais.\n",
        "\n",
        "> **Números de ponto flutuante (float):** números com frações ou decimais, que podem ser positivos ou negativos.\n",
        "\n",
        "> **Booleanos (bool):** valores lógicos verdadeiro ou falso, úteis em expressões condicionais.\n",
        "\n",
        "> **Caracteres (char):** letras, números e símbolos que podem ser usados ​​para formar cadeias de caracteres (strings).\n",
        "\n",
        "> **Cadeias de caracteres (string):** sequências de caracteres, que podem ser formadas por letras, números, símbolos e espaços.\n",
        "\n",
        "> **Data e hora (datetime):** valores que representam datas e horários, usados ​​em aplicações que requerem registro de tempo.\n",
        "\n",
        "> **Bytes e bits (byte/bit):** unidades de informação básicas usadas para medir o tamanho de dados em um computador.\n",
        "\n",
        "Existem muitos outros tipos de dados que podem ser usados ​​em programação, dependendo das necessidades específicas do programa ou aplicação. O importante é escolher o tipo de dado mais apropriado para cada situação, para garantir a precisão e a eficiência do código.\n",
        "\n",
        "\n",
        "\n"
      ],
      "metadata": {
        "id": "bEs-AcxkI59D"
      }
    },
    {
      "cell_type": "markdown",
      "source": [
        "#### Tipos de dados em javascript\n"
      ],
      "metadata": {
        "id": "u-UuoX4W4HVz"
      }
    },
    {
      "cell_type": "markdown",
      "source": [
        "> Números (Numbers): são valores numéricos, como 42, 3.14, -100, etc."
      ],
      "metadata": {
        "id": "xA5lvK5m46Tx"
      }
    },
    {
      "cell_type": "code",
      "source": [
        "let idade = 27;\n",
        "let pi = 3.14;\n",
        "let negativo = -10;\n"
      ],
      "metadata": {
        "id": "jtu_KCpM49oE"
      },
      "execution_count": null,
      "outputs": []
    },
    {
      "cell_type": "markdown",
      "source": [
        "> Strings: são sequências de caracteres entre aspas simples ou duplas, como \"Hello, world!\", 'JavaScript', \"123\", etc."
      ],
      "metadata": {
        "id": "Ql_ZpCNo4_JY"
      }
    },
    {
      "cell_type": "code",
      "source": [
        "let nome = \"João\";\n",
        "let mensagem = \"Bem-vindo ao meu site!\";\n",
        "let senha = \"MinhaSenhaSegura123\";\n"
      ],
      "metadata": {
        "id": "08CqWp8X5F-H"
      },
      "execution_count": null,
      "outputs": []
    },
    {
      "cell_type": "markdown",
      "source": [
        "> Booleanos (Booleans): representam valores verdadeiro/falso (true/false) e são usados em expressões lógicas, como \"10 > 5\" que é verdadeiro (true), ou \"10 < 5\" que é falso (false)."
      ],
      "metadata": {
        "id": "K2tFHY-h5JE-"
      }
    },
    {
      "cell_type": "code",
      "source": [
        "let condicao = true;\n",
        "let outraCondicao = false;\n",
        "let resultado = 10 > 5; // true\n"
      ],
      "metadata": {
        "id": "xhh1-Ps45LDX"
      },
      "execution_count": null,
      "outputs": []
    },
    {
      "cell_type": "markdown",
      "source": [
        "> Null: representa um valor nulo ou vazio, ou seja, não há nenhum valor presente."
      ],
      "metadata": {
        "id": "RfA09TXz5Mkf"
      }
    },
    {
      "cell_type": "code",
      "source": [
        "let valorNulo = null;\n"
      ],
      "metadata": {
        "id": "ApY7rxwU5Pp2"
      },
      "execution_count": null,
      "outputs": []
    },
    {
      "cell_type": "markdown",
      "source": [
        "> Undefined: representa um valor não definido, que ocorre quando uma variável é declarada, mas não atribuída a um valor."
      ],
      "metadata": {
        "id": "aM7CuWcw5RB2"
      }
    },
    {
      "cell_type": "code",
      "source": [
        "let valorIndefinido;\n",
        "console.log(valorIndefinido); // undefined\n"
      ],
      "metadata": {
        "id": "MVB59-bv5WTt"
      },
      "execution_count": null,
      "outputs": []
    },
    {
      "cell_type": "markdown",
      "source": [
        "> Objetos (Objects): são estruturas de dados complexas que podem conter vários valores e métodos, como propriedades e funções."
      ],
      "metadata": {
        "id": "VJsorE4L5ZJ-"
      }
    },
    {
      "cell_type": "code",
      "source": [
        "let pessoa = {\n",
        "  nome: \"Ana\",\n",
        "  idade: 32,\n",
        "  profissao: \"Engenheira\",\n",
        "  endereco: {\n",
        "    rua: \"Rua A\",\n",
        "    numero: 123,\n",
        "    cidade: \"São Paulo\"\n",
        "  }\n",
        "};\n"
      ],
      "metadata": {
        "id": "kW5UzA6g5bm9"
      },
      "execution_count": null,
      "outputs": []
    },
    {
      "cell_type": "markdown",
      "source": [
        "> Arrays: são objetos especiais que armazenam uma coleção de valores, como [1, 2, 3], [\"apple\", \"orange\", \"banana\"], etc."
      ],
      "metadata": {
        "id": "i57VTgbd5fac"
      }
    },
    {
      "cell_type": "code",
      "source": [
        "let listaDeCompras = [\"Maçã\", \"Banana\", \"Leite\", \"Pão\"];\n",
        "let numeros = [1, 2, 3, 4, 5];\n"
      ],
      "metadata": {
        "id": "KkP0h-xp5nyy"
      },
      "execution_count": null,
      "outputs": []
    },
    {
      "cell_type": "markdown",
      "source": [
        "#### Tipos de dados em Python"
      ],
      "metadata": {
        "id": "qqqBE7LxhiB6"
      }
    },
    {
      "cell_type": "markdown",
      "source": [
        "> **Inteiros (int):** são números inteiros sem casas decimais, positivos ou negativos.\n"
      ],
      "metadata": {
        "id": "YQqvcO68pdkI"
      }
    },
    {
      "cell_type": "code",
      "source": [
        "# Exemplo de número inteiro\n",
        "x = 10\n",
        "y = 20\n",
        "print(x)\n",
        "print(y)\n"
      ],
      "metadata": {
        "id": "AGTI365Jpekk",
        "colab": {
          "base_uri": "https://localhost:8080/"
        },
        "outputId": "6ee3185a-ca41-481f-c01f-8e638f8c5f8a"
      },
      "execution_count": null,
      "outputs": [
        {
          "output_type": "stream",
          "name": "stdout",
          "text": [
            "10\n",
            "20\n"
          ]
        }
      ]
    },
    {
      "cell_type": "markdown",
      "source": [
        "> **Números de ponto flutuante (float):** são números que contêm uma parte fracionária, representada por um ponto decimal."
      ],
      "metadata": {
        "id": "di2Ki5iAr10i"
      }
    },
    {
      "cell_type": "code",
      "source": [
        "# Exemplo de número de ponto flutuante\n",
        "a = 2.5\n",
        "b = 3.7\n",
        "print(a)\n",
        "print(b)\n"
      ],
      "metadata": {
        "colab": {
          "base_uri": "https://localhost:8080/"
        },
        "id": "EndKbs2SsBrQ",
        "outputId": "46861de6-0c9b-4fed-e9e8-4a923166144e"
      },
      "execution_count": null,
      "outputs": [
        {
          "output_type": "stream",
          "name": "stdout",
          "text": [
            "2.5\n",
            "3.7\n"
          ]
        }
      ]
    },
    {
      "cell_type": "markdown",
      "source": [
        "> **Booleanos (bool):** representam valores booleanos verdadeiro ou falso. São úteis em expressões lógicas e de controle de fluxo."
      ],
      "metadata": {
        "id": "7xrR9esbsI9H"
      }
    },
    {
      "cell_type": "code",
      "source": [
        "# Exemplo de booleano\n",
        "x = True\n",
        "y = False\n",
        "print(x)\n",
        "print(y)\n"
      ],
      "metadata": {
        "colab": {
          "base_uri": "https://localhost:8080/"
        },
        "id": "1HQ0ZP7YsNrH",
        "outputId": "6891b241-c1ae-4b44-d017-3f72da7b717b"
      },
      "execution_count": null,
      "outputs": [
        {
          "output_type": "stream",
          "name": "stdout",
          "text": [
            "True\n",
            "False\n"
          ]
        }
      ]
    },
    {
      "cell_type": "markdown",
      "source": [
        "> **Strings (str):** são sequências de caracteres que representam texto. Podem ser criados usando aspas simples ou duplas."
      ],
      "metadata": {
        "id": "cKAxzmpasPJX"
      }
    },
    {
      "cell_type": "code",
      "source": [
        "# Exemplo de string\n",
        "s1 = \"Hello, World!\"\n",
        "s2 = 'Python é legal!'\n",
        "print(s1)\n",
        "print(s2)\n"
      ],
      "metadata": {
        "colab": {
          "base_uri": "https://localhost:8080/"
        },
        "id": "-j-sEZwGsRlf",
        "outputId": "8fb9ae12-b5ae-4ddd-f716-41158d21e0d5"
      },
      "execution_count": null,
      "outputs": [
        {
          "output_type": "stream",
          "name": "stdout",
          "text": [
            "Hello, World!\n",
            "Python é legal!\n"
          ]
        }
      ]
    },
    {
      "cell_type": "markdown",
      "source": [
        "> **Listas (list):** são coleções ordenadas de valores, que podem ser de diferentes tipos de dados. São mutáveis, o que significa que seus elementos podem ser alterados."
      ],
      "metadata": {
        "id": "zUZFfLgesVHO"
      }
    },
    {
      "cell_type": "code",
      "source": [
        "# Criando uma lista de números inteiros\n",
        "my_list = [1, 2, 3, 4, 5]\n",
        "print(my_list)\n"
      ],
      "metadata": {
        "colab": {
          "base_uri": "https://localhost:8080/"
        },
        "id": "9QrCsqm5suf8",
        "outputId": "79517a7c-293b-45a7-f4c4-c8953abc778a"
      },
      "execution_count": null,
      "outputs": [
        {
          "output_type": "stream",
          "name": "stdout",
          "text": [
            "[1, 2, 3, 4, 5]\n"
          ]
        }
      ]
    },
    {
      "cell_type": "markdown",
      "source": [
        "> **Tuplas (tuple):** são semelhantes às listas, mas são imutáveis, ou seja, seus elementos não podem ser alterados depois de criados."
      ],
      "metadata": {
        "id": "2ZAOSJp3s_wD"
      }
    },
    {
      "cell_type": "code",
      "source": [
        "# Criando uma tupla de cores\n",
        "my_tuple = ('vermelho', 'verde', 'azul')\n",
        "print(my_tuple)\n"
      ],
      "metadata": {
        "colab": {
          "base_uri": "https://localhost:8080/"
        },
        "id": "Qspg_YdFtDGD",
        "outputId": "3a13d897-c3bb-467c-c7fd-8c8393741db3"
      },
      "execution_count": null,
      "outputs": [
        {
          "output_type": "stream",
          "name": "stdout",
          "text": [
            "('vermelho', 'verde', 'azul')\n"
          ]
        }
      ]
    },
    {
      "cell_type": "markdown",
      "source": [
        "\n",
        "> **Conjuntos (set):** são coleções não ordenadas de elementos únicos. São úteis para realizar operações matemáticas como união, interseção e diferença."
      ],
      "metadata": {
        "id": "r2gtlLMVtISw"
      }
    },
    {
      "cell_type": "code",
      "source": [
        "# Criando um conjunto de frutas\n",
        "my_set = {'maçã', 'banana', 'laranja'}\n",
        "print(my_set)\n"
      ],
      "metadata": {
        "colab": {
          "base_uri": "https://localhost:8080/"
        },
        "id": "h1_qUgv1tZLy",
        "outputId": "239c00d8-75ee-45f3-b628-702bf209bf97"
      },
      "execution_count": null,
      "outputs": [
        {
          "output_type": "stream",
          "name": "stdout",
          "text": [
            "{'laranja', 'maçã', 'banana'}\n"
          ]
        }
      ]
    },
    {
      "cell_type": "markdown",
      "source": [
        "\n",
        "> **Dicionários (dict):** são coleções de pares chave-valor, onde cada chave é única e associada a um valor. São úteis para representar dados estruturados."
      ],
      "metadata": {
        "id": "Yi58rcSRta-J"
      }
    },
    {
      "cell_type": "code",
      "source": [
        "# Criando um dicionário de traduções\n",
        "my_dict = {'apple': 'maçã', 'banana': 'banana', 'orange': 'laranja'}\n",
        "print(my_dict)"
      ],
      "metadata": {
        "colab": {
          "base_uri": "https://localhost:8080/"
        },
        "id": "Rg-knYDstdVa",
        "outputId": "6207cf40-8699-49d4-c94e-2354f67f52cf"
      },
      "execution_count": null,
      "outputs": [
        {
          "output_type": "stream",
          "name": "stdout",
          "text": [
            "{'apple': 'maçã', 'banana': 'banana', 'orange': 'laranja'}\n"
          ]
        }
      ]
    },
    {
      "cell_type": "markdown",
      "source": [
        "#### Tipos de dados em Java"
      ],
      "metadata": {
        "id": "TCdPSdpKVr5A"
      }
    },
    {
      "cell_type": "markdown",
      "source": [
        "##### Diferenças importantes \n",
        "\n",
        "A principal diferença entre tipos primitivos e não primitivos em Java é a forma como eles são armazenados e manipulados na memória.\n",
        "\n",
        "Os tipos primitivos são tipos de dados básicos que são armazenados diretamente na memória, sem a necessidade de referência a um objeto. Eles são considerados tipos de dados simples e são usados ​​para armazenar valores numéricos e caracteres. Os tipos primitivos incluem: byte, short, int, long, float, double, char e boolean.\n",
        "\n",
        "Já os tipos não primitivos são objetos criados a partir de classes definidas pelo programador. Eles são armazenados na memória como referências a objetos em vez de serem armazenados diretamente. Os tipos não primitivos incluem: classes personalizadas, arrays e classes da biblioteca padrão do Java, como String e Integer.\n",
        "\n",
        "Outra diferença importante é que os tipos primitivos são passados ​​por valor, o que significa que, quando são usados ​​como parâmetros em métodos, o valor real é copiado para o parâmetro. Já os tipos não primitivos são passados ​​por referência, o que significa que a referência do objeto é passada para o parâmetro, não uma cópia do objeto em si.\n",
        "\n",
        "Em geral, os tipos primitivos são mais eficientes em termos de uso de memória e processamento, enquanto os tipos não primitivos fornecem recursos mais avançados e flexibilidade para manipular dados complexos e estruturados."
      ],
      "metadata": {
        "id": "h0q5RQJvbc2w"
      }
    },
    {
      "cell_type": "markdown",
      "source": [
        "##### **Tipos primitivos:** "
      ],
      "metadata": {
        "id": "10ijufJdVbMt"
      }
    },
    {
      "cell_type": "markdown",
      "source": [
        "- byte:  é um tipo de dado inteiro que ocupa 1 byte de memória e pode armazenar valores na faixa de -128 a 127."
      ],
      "metadata": {
        "id": "ZQ6Wz8zqU3Nl"
      }
    },
    {
      "cell_type": "code",
      "source": [
        "public class MinhaClasse {\n",
        "  public static void main(String[] args) {\n",
        "    byte minhaVariavelByte = 10;\n",
        "    System.out.println(\"Valor da variável byte: \" + minhaVariavelByte);\n",
        "  }\n",
        "}"
      ],
      "metadata": {
        "id": "-ThVyvMFVMir"
      },
      "execution_count": null,
      "outputs": []
    },
    {
      "cell_type": "markdown",
      "source": [
        "\n",
        "- short:  é um tipo de dado inteiro que ocupa 2 bytes de memória e pode armazenar valores na faixa de -32.768 a 32.767."
      ],
      "metadata": {
        "id": "NksgwLpRU2ne"
      }
    },
    {
      "cell_type": "code",
      "source": [
        "public class MinhaClasse {\n",
        "  public static void main(String[] args) {\n",
        "    short minhaVariavelShort = 1000;\n",
        "    System.out.println(\"Valor da variável short: \" + minhaVariavelShort);\n",
        "  }\n",
        "}\n"
      ],
      "metadata": {
        "id": "PWeKlpY-TasH"
      },
      "execution_count": null,
      "outputs": []
    },
    {
      "cell_type": "markdown",
      "source": [
        "- int: é um tipo de dado inteiro que ocupa 4 bytes de memória e pode armazenar valores na faixa de -2.147.483.648 a 2.147.483.647."
      ],
      "metadata": {
        "id": "LyySwYaQU1kV"
      }
    },
    {
      "cell_type": "code",
      "source": [
        "public class MinhaClasse {\n",
        "  public static void main(String[] args) {\n",
        "    int minhaVariavelInt = 1000000;\n",
        "    System.out.println(\"Valor da variável int: \" + minhaVariavelInt);\n",
        "  }\n",
        "}\n"
      ],
      "metadata": {
        "id": "yeCEzigoYTsG"
      },
      "execution_count": null,
      "outputs": []
    },
    {
      "cell_type": "markdown",
      "source": [
        "- long: é um tipo de dado inteiro que ocupa 8 bytes de memória e pode armazenar valores na faixa de -9.223.372.036.854.775.808 a 9.223.372.036.854.775.807.\n"
      ],
      "metadata": {
        "id": "feHrQi-XYVOe"
      }
    },
    {
      "cell_type": "code",
      "source": [
        "public class MinhaClasse {\n",
        "  public static void main(String[] args) {\n",
        "    long minhaVariavelLong = 1000000000L;\n",
        "    System.out.println(\"Valor da variável long: \" + minhaVariavelLong);\n",
        "  }\n",
        "}\n"
      ],
      "metadata": {
        "id": "hwEpfmozYhv9"
      },
      "execution_count": null,
      "outputs": []
    },
    {
      "cell_type": "markdown",
      "source": [
        "- float: é um tipo de dado de ponto flutuante que ocupa 4 bytes de memória e pode armazenar valores na faixa de 1.4E-45 a 3.4028235E38.\n"
      ],
      "metadata": {
        "id": "PG0ZWQmmYdD-"
      }
    },
    {
      "cell_type": "code",
      "source": [
        "public class MinhaClasse {\n",
        "  public static void main(String[] args) {\n",
        "    float minhaVariavelFloat = 3.14f;\n",
        "    System.out.println(\"Valor da variável float: \" + minhaVariavelFloat);\n",
        "  }\n",
        "}\n"
      ],
      "metadata": {
        "id": "UKJxs0FuYrAl"
      },
      "execution_count": null,
      "outputs": []
    },
    {
      "cell_type": "markdown",
      "source": [
        "- double:  é um tipo de dado de ponto flutuante que ocupa 8 bytes de memória e pode armazenar valores na faixa de 4.9E-324 a 1.7976931348623157E308.\n"
      ],
      "metadata": {
        "id": "jWT8V4KCYr7F"
      }
    },
    {
      "cell_type": "code",
      "source": [
        "public class MinhaClasse {\n",
        "  public static void main(String[] args) {\n",
        "    double minhaVariavelDouble = 3.14159;\n",
        "    System.out.println(\"Valor da variável double: \" + minhaVariavelDouble);\n",
        "  }\n",
        "}\n"
      ],
      "metadata": {
        "id": "-gl9F6GRY-S7"
      },
      "execution_count": null,
      "outputs": []
    },
    {
      "cell_type": "markdown",
      "source": [
        "- char:  é um tipo de dado que ocupa 2 bytes de memória e pode armazenar um único caractere Unicode."
      ],
      "metadata": {
        "id": "EFRT7sFXZA2Q"
      }
    },
    {
      "cell_type": "code",
      "source": [
        "public class MinhaClasse {\n",
        "  public static void main(String[] args) {\n",
        "    char minhaVariavelChar = 'A';\n",
        "    System.out.println(\"Valor da variável char: \" + minhaVariavelChar);\n",
        "  }\n",
        "}\n"
      ],
      "metadata": {
        "id": "UBRNjzAEZMHI"
      },
      "execution_count": null,
      "outputs": []
    },
    {
      "cell_type": "markdown",
      "source": [
        "- boolean:  é um tipo de dado que ocupa 1 byte de memória e pode armazenar apenas dois valores: true ou false.\n",
        "\n"
      ],
      "metadata": {
        "id": "j0eYrUK2ZMxp"
      }
    },
    {
      "cell_type": "code",
      "source": [
        "public class MinhaClasse {\n",
        "  public static void main(String[] args) {\n",
        "    boolean minhaVariavelBoolean = true;\n",
        "    System.out.println(\"Valor da variável boolean: \" + minhaVariavelBoolean);\n",
        "  }\n",
        "}\n"
      ],
      "metadata": {
        "id": "JNABIAi2ZTew"
      },
      "execution_count": null,
      "outputs": []
    },
    {
      "cell_type": "markdown",
      "source": [
        "##### Tipos não primitivos (também conhecidos como classes):\n"
      ],
      "metadata": {
        "id": "YcwEBWSzZT35"
      }
    },
    {
      "cell_type": "markdown",
      "source": [
        "- String: armazena cadeias de caracteres\n"
      ],
      "metadata": {
        "id": "PlQgyZMSZYyp"
      }
    },
    {
      "cell_type": "code",
      "source": [
        "public class MinhaClasse {\n",
        "  public static void main(String[] args) {\n",
        "    String minhaVariavelString = \"Olá, mundo!\";\n",
        "    System.out.println(\"Valor da variável string: \" + minhaVariavelString);\n",
        "  }\n",
        "}\n"
      ],
      "metadata": {
        "id": "PEq200JFZYMp"
      },
      "execution_count": null,
      "outputs": []
    },
    {
      "cell_type": "markdown",
      "source": [
        "- Arrays: armazenam uma coleção de valores do mesmo tipo de dados"
      ],
      "metadata": {
        "id": "z1OceAh5ZbFg"
      }
    },
    {
      "cell_type": "code",
      "source": [
        "# array de floats\n",
        "public class MinhaClasse {\n",
        "  public static void main(String[] args) {\n",
        "    float[] meuArrayFloat = {1.2f, 3.4f, 5.6f};\n",
        "    System.out.println(\"Valor do segundo elemento do array de float: \" + meuArrayFloat[1]);\n",
        "  }\n",
        "}\n"
      ],
      "metadata": {
        "id": "lNeaaPjvc0Kq"
      },
      "execution_count": null,
      "outputs": []
    },
    {
      "cell_type": "code",
      "source": [
        "# array de inteiros \n",
        "public class MinhaClasse {\n",
        "  public static void main(String[] args) {\n",
        "    int[] meuArray = {1, 2, 3, 4, 5};\n",
        "    System.out.println(\"Valor do terceiro elemento do array: \" + meuArray[2]);\n",
        "  }\n",
        "}"
      ],
      "metadata": {
        "id": "8EPX1f8ucp7T"
      },
      "execution_count": null,
      "outputs": []
    },
    {
      "cell_type": "code",
      "source": [
        "# array de de char\n",
        "\n",
        "public class MinhaClasse {\n",
        "  public static void main(String[] args) {\n",
        "    char[] meuArrayChar = {'H', 'e', 'l', 'l', 'o'};\n",
        "    System.out.println(\"Valor do quarto elemento do array de char: \" + meuArrayChar[3]);\n",
        "  }\n",
        "}"
      ],
      "metadata": {
        "id": "NhiF48qTcHGl"
      },
      "execution_count": null,
      "outputs": []
    },
    {
      "cell_type": "markdown",
      "source": [
        "- Classes personalizadas: definidas pelo programador para armazenar dados específicos\n"
      ],
      "metadata": {
        "id": "-qPijFHQZdwg"
      }
    },
    {
      "cell_type": "code",
      "source": [
        "public class Pessoa {\n",
        "  private String nome;\n",
        "  private int idade;\n",
        "  \n",
        "  public Pessoa(String nome, int idade) {\n",
        "    this.nome = nome;\n",
        "    this.idade = idade;\n",
        "  }\n",
        "  \n",
        "  public String getNome() {\n",
        "    return nome;\n",
        "  }\n",
        "  \n",
        "  public void setNome(String nome) {\n",
        "    this.nome = nome;\n",
        "  }\n",
        "  \n",
        "  public int getIdade() {\n",
        "    return idade;\n",
        "  }\n",
        "  \n",
        "  public void setIdade(int idade) {\n",
        "    this.idade = idade;\n",
        "  }\n",
        "  \n",
        "  public void imprimeDados() {\n",
        "    System.out.println(\"Nome: \" + nome);\n",
        "    System.out.println(\"Idade: \" + idade);\n",
        "  }\n",
        "}\n"
      ],
      "metadata": {
        "id": "X32Y7T4GhcyN"
      },
      "execution_count": null,
      "outputs": []
    },
    {
      "cell_type": "markdown",
      "source": [
        "*Além desses tipos de dados, Java também suporta o conceito de wrapper classes, que são classes que envolvem os tipos primitivos para fornecer métodos adicionais para manipulá-los. Por exemplo, a classe Integer é uma wrapper class para o tipo primitivo int.*"
      ],
      "metadata": {
        "id": "6zdkQqnrZsaH"
      }
    },
    {
      "cell_type": "markdown",
      "source": [
        "###OPERADORES LÓGICOS "
      ],
      "metadata": {
        "id": "QbpcVZKt53Ig"
      }
    },
    {
      "cell_type": "markdown",
      "source": [
        "#### Classificação\n",
        "\n",
        "Os operadores lógicos são usados ​​para combinar ou inverter expressões lógicas. Eles são amplamente utilizados em programação e estão presentes em várias linguagens de programação, incluindo JavaScript, Python, Java, C ++ e muitas outras. Os principais operadores lógicos são:\n",
        "\n",
        "1. **AND lógico (&&):** Retorna true somente se ambas as expressões forem verdadeiras.\n",
        "Exemplo: (x > 0 && x < 10) retorna true somente se x for maior que zero e menor que 10.\n",
        "\n",
        "2. **OR lógico (||):** Retorna true se pelo menos uma das expressões for verdadeira.\n",
        "Exemplo: (x == 0 || y == 0) retorna true se x ou y forem iguais a zero.\n",
        "\n",
        "3. **NOT lógico (!):** Inverte o valor da expressão lógica.\n",
        "Exemplo: !(x > 0) retorna true se x for menor ou igual a zero.\n",
        "\n",
        "4. **Igual (==):** Retorna true se os dois operandos forem iguais.\n",
        "Exemplo: (x == y) retorna true se x for igual a y.\n",
        "\n",
        "5. **Diferente (!=):** Retorna true se os dois operandos forem diferentes.\n",
        "Exemplo: (x != y) retorna true se x não for igual a y.\n",
        "\n",
        "6. **Maior que (>):** Retorna true se o operando da esquerda for maior que o operando da direita.\n",
        "Exemplo: (x > y) retorna true se x for maior que y.\n",
        "\n",
        "7. **Menor que (<):** Retorna true se o operando da esquerda for menor que o operando da direita.\n",
        "Exemplo: (x < y) retorna true se x for menor que y.\n",
        "\n",
        "8. **Maior ou igual (>=):** Retorna true se o operando da esquerda for maior ou igual ao operando da direita.\n",
        "Exemplo: (x >= y) retorna true se x for maior ou igual a y.\n",
        "\n",
        "9. **Menor ou igual (<=):** Retorna true se o operando da esquerda for menor ou igual ao operando da direita.\n",
        "Exemplo: (x <= y) retorna true se x for menor ou igual a y.\n",
        "\n",
        "Esses são os principais operadores lógicos em programação, mas podem variar ligeiramente entre as linguagens de programação."
      ],
      "metadata": {
        "id": "STIoFtXS6Mi1"
      }
    },
    {
      "cell_type": "markdown",
      "source": [
        "#### Operadores lógicos em Javascript "
      ],
      "metadata": {
        "id": "wrsF5nbm87b1"
      }
    },
    {
      "cell_type": "markdown",
      "source": [
        "\n",
        "1. **AND lógico (&&):** Retorna true somente se ambas as expressões forem verdadeiras.\n",
        "Exemplo: (x > 0 && x < 10) retorna true somente se x for maior que zero e menor que 10."
      ],
      "metadata": {
        "id": "zjWVmWDt7w32"
      }
    },
    {
      "cell_type": "code",
      "source": [
        "let a = 5;\n",
        "let b = 10;\n",
        "if (a > 0 && b > 0) {\n",
        "  console.log(\"Ambas as condições são verdadeiras.\");\n",
        "}\n"
      ],
      "metadata": {
        "id": "fNvSCN437zfU"
      },
      "execution_count": null,
      "outputs": []
    },
    {
      "cell_type": "markdown",
      "source": [
        "2. **OR lógico (||):** Retorna true se pelo menos uma das expressões for verdadeira.\n",
        "Exemplo: (x == 0 || y == 0) retorna true se x ou y forem iguais a zero."
      ],
      "metadata": {
        "id": "gGPe7fs571OL"
      }
    },
    {
      "cell_type": "code",
      "source": [
        "let cor = \"vermelho\";\n",
        "if (cor == \"azul\" || cor == \"vermelho\") {\n",
        "  console.log(\"A cor é azul ou vermelho.\");\n",
        "}\n"
      ],
      "metadata": {
        "id": "2tRCIjix72Nr"
      },
      "execution_count": null,
      "outputs": []
    },
    {
      "cell_type": "markdown",
      "source": [
        "3. **NOT lógico (!):** Inverte o valor da expressão lógica.\n",
        "Exemplo: !(x > 0) retorna true se x for menor ou igual a zero."
      ],
      "metadata": {
        "id": "bAFDsoK273i8"
      }
    },
    {
      "cell_type": "code",
      "source": [
        "let a = 5;\n",
        "if (!(a > 10)) {\n",
        "  console.log(\"A condição é falsa.\");\n",
        "}\n"
      ],
      "metadata": {
        "id": "bh6Z7vGY7699"
      },
      "execution_count": null,
      "outputs": []
    },
    {
      "cell_type": "markdown",
      "source": [
        "4. **Igual (==):** Retorna true se os dois operandos forem iguais.\n",
        "Exemplo: (x == y) retorna true se x for igual a y."
      ],
      "metadata": {
        "id": "iCIJCBd67-uD"
      }
    },
    {
      "cell_type": "code",
      "source": [
        "let a = 5;\n",
        "let b = \"5\";\n",
        "if (a == b) {\n",
        "  console.log(\"Os valores são iguais.\");\n",
        "}\n"
      ],
      "metadata": {
        "id": "3wH2yZ387_w8"
      },
      "execution_count": null,
      "outputs": []
    },
    {
      "cell_type": "markdown",
      "source": [
        "\n",
        "5. **Diferente (!=):** Retorna true se os dois operandos forem diferentes.\n",
        "Exemplo: (x != y) retorna true se x não for igual a y."
      ],
      "metadata": {
        "id": "WWFRbogr8A3k"
      }
    },
    {
      "cell_type": "code",
      "source": [
        "let a = 5;\n",
        "let b = 10;\n",
        "if (a != b) {\n",
        "  console.log(\"Os valores são diferentes.\");\n",
        "}\n"
      ],
      "metadata": {
        "id": "sn1tBj7v8CwS"
      },
      "execution_count": null,
      "outputs": []
    },
    {
      "cell_type": "markdown",
      "source": [
        "6. **Maior que (>):** Retorna true se o operando da esquerda for maior que o operando da direita.\n",
        "Exemplo: (x > y) retorna true se x for maior que y."
      ],
      "metadata": {
        "id": "BkMmJ4t98Efh"
      }
    },
    {
      "cell_type": "code",
      "source": [
        "let a = 10;\n",
        "let b = 5;\n",
        "if (a > b) {\n",
        "  console.log(\"A é maior que B.\");\n",
        "}\n"
      ],
      "metadata": {
        "id": "LLSfahjB8HoK"
      },
      "execution_count": null,
      "outputs": []
    },
    {
      "cell_type": "markdown",
      "source": [
        "7. **Menor que (<):** Retorna true se o operando da esquerda for menor que o operando da direita.\n",
        "Exemplo: (x < y) retorna true se x for menor que y."
      ],
      "metadata": {
        "id": "YbLoC2TZ8IRq"
      }
    },
    {
      "cell_type": "code",
      "source": [
        "let a = 5;\n",
        "let b = 10;\n",
        "if (a < b) {\n",
        "  console.log(\"A é menor que B.\");\n",
        "}\n"
      ],
      "metadata": {
        "id": "iDK4mu5K8Lbi"
      },
      "execution_count": null,
      "outputs": []
    },
    {
      "cell_type": "markdown",
      "source": [
        "8. **Maior ou igual (>=):** Retorna true se o operando da esquerda for maior ou igual ao operando da direita.\n",
        "Exemplo: (x >= y) retorna true se x for maior ou igual a y.\n"
      ],
      "metadata": {
        "id": "mTotSHJd8NC6"
      }
    },
    {
      "cell_type": "code",
      "source": [
        "let a = 10;\n",
        "let b = 10;\n",
        "if (a >= b) {\n",
        "  console.log(\"A é maior ou igual a B.\");\n",
        "}\n"
      ],
      "metadata": {
        "id": "Jev9HDTX8Yda"
      },
      "execution_count": null,
      "outputs": []
    },
    {
      "cell_type": "markdown",
      "source": [
        "9. **Menor ou igual (<=):** Retorna true se o operando da esquerda for menor ou igual ao operando da direita.\n",
        "Exemplo: (x <= y) retorna true se x for menor ou igual a y."
      ],
      "metadata": {
        "id": "2wKTkEVT8ZKw"
      }
    },
    {
      "cell_type": "code",
      "source": [
        "let a = 5;\n",
        "let b = 10;\n",
        "if (a <= b) {\n",
        "  console.log(\"A é menor ou igual a B.\");\n",
        "}\n"
      ],
      "metadata": {
        "id": "D71B-9dD8b84"
      },
      "execution_count": null,
      "outputs": []
    },
    {
      "cell_type": "markdown",
      "source": [],
      "metadata": {
        "id": "e8UsfAD58M8p"
      }
    },
    {
      "cell_type": "markdown",
      "source": [
        "#### Operadores lógicos em Python"
      ],
      "metadata": {
        "id": "HhDBZCJo6_bg"
      }
    },
    {
      "cell_type": "markdown",
      "source": [
        "1. AND lógico (and):"
      ],
      "metadata": {
        "id": "FhN43CyH8-CG"
      }
    },
    {
      "cell_type": "code",
      "source": [
        "a = 5\n",
        "b = 10\n",
        "if a > 0 and b > 0:\n",
        "    print(\"Ambas as condições são verdadeiras.\")\n"
      ],
      "metadata": {
        "id": "xb-DoePO9D9u"
      },
      "execution_count": null,
      "outputs": []
    },
    {
      "cell_type": "markdown",
      "source": [
        "2. OR lógico (or):"
      ],
      "metadata": {
        "id": "GjV83iDi9Ftu"
      }
    },
    {
      "cell_type": "code",
      "source": [
        "cor = \"vermelho\"\n",
        "if cor == \"azul\" or cor == \"vermelho\":\n",
        "    print(\"A cor é azul ou vermelho.\")\n"
      ],
      "metadata": {
        "id": "d1J9dHmg9HDm"
      },
      "execution_count": null,
      "outputs": []
    },
    {
      "cell_type": "markdown",
      "source": [
        "3. NOT lógico (not):"
      ],
      "metadata": {
        "id": "15jKruuH7HuP"
      }
    },
    {
      "cell_type": "code",
      "source": [
        "a = 5\n",
        "if not(a > 10):\n",
        "    print(\"A condição é falsa.\")\n"
      ],
      "metadata": {
        "id": "uek5BvVO86AR"
      },
      "execution_count": null,
      "outputs": []
    },
    {
      "cell_type": "markdown",
      "source": [
        "4. Igual (==): "
      ],
      "metadata": {
        "id": "zkcwMdb49Qr4"
      }
    },
    {
      "cell_type": "code",
      "source": [
        "a = 5\n",
        "b = \"5\"\n",
        "if a == b:\n",
        "    print(\"Os valores são iguais.\")\n"
      ],
      "metadata": {
        "id": "x3lj8IQa9SPh"
      },
      "execution_count": null,
      "outputs": []
    },
    {
      "cell_type": "markdown",
      "source": [
        "5. Diferente (!=):"
      ],
      "metadata": {
        "id": "hCJ7L0fD9UVw"
      }
    },
    {
      "cell_type": "code",
      "source": [
        "a = 5\n",
        "b = 10\n",
        "if a != b:\n",
        "    print(\"Os valores são diferentes.\")\n"
      ],
      "metadata": {
        "id": "qri-Im539XkA"
      },
      "execution_count": null,
      "outputs": []
    },
    {
      "cell_type": "markdown",
      "source": [
        "6. Maior que (>):"
      ],
      "metadata": {
        "id": "SVtkdWmA9ZYQ"
      }
    },
    {
      "cell_type": "code",
      "source": [
        "a = 10\n",
        "b = 5\n",
        "if a > b:\n",
        "    print(\"A é maior que B.\")\n"
      ],
      "metadata": {
        "id": "NfdvIGoE9bI6"
      },
      "execution_count": null,
      "outputs": []
    },
    {
      "cell_type": "markdown",
      "source": [
        "7. Menor que (<):"
      ],
      "metadata": {
        "id": "OcGcyZr59eSj"
      }
    },
    {
      "cell_type": "code",
      "source": [
        "a = 5\n",
        "b = 10\n",
        "if a < b:\n",
        "    print(\"A é menor que B.\")\n"
      ],
      "metadata": {
        "id": "D9x72ed89fei"
      },
      "execution_count": null,
      "outputs": []
    },
    {
      "cell_type": "markdown",
      "source": [
        "8. Maior ou igual (>=):"
      ],
      "metadata": {
        "id": "UyqZBKFj9g6U"
      }
    },
    {
      "cell_type": "code",
      "source": [
        "a = 10\n",
        "b = 10\n",
        "if a >= b:\n",
        "    print(\"A é maior ou igual a B.\")\n"
      ],
      "metadata": {
        "id": "D9wYEhu_9jea"
      },
      "execution_count": null,
      "outputs": []
    },
    {
      "cell_type": "markdown",
      "source": [
        "9. Menor ou igual (<=):"
      ],
      "metadata": {
        "id": "XIRoBif19tpt"
      }
    },
    {
      "cell_type": "code",
      "source": [
        "a = 10\n",
        "b = 10\n",
        "if a <= b:\n",
        "    print(\"A é maior ou igual a B.\")\n"
      ],
      "metadata": {
        "id": "4euEFacU9tVc"
      },
      "execution_count": null,
      "outputs": []
    },
    {
      "cell_type": "markdown",
      "source": [
        "####Operadores lógicos em Java"
      ],
      "metadata": {
        "id": "-2upAaNq908U"
      }
    },
    {
      "cell_type": "markdown",
      "source": [
        "1. AND lógico (&&):"
      ],
      "metadata": {
        "id": "xhEpMtZi96zo"
      }
    },
    {
      "cell_type": "code",
      "source": [
        "public class AndOperator {\n",
        "    public static void main(String[] args) {\n",
        "        int a = 5;\n",
        "        int b = 10;\n",
        "        if (a > 0 && b > 0) {\n",
        "            System.out.println(\"Ambas as condições são verdadeiras.\");\n",
        "        }\n",
        "    }\n",
        "}\n"
      ],
      "metadata": {
        "id": "WLwf1og297e4"
      },
      "execution_count": null,
      "outputs": []
    },
    {
      "cell_type": "markdown",
      "source": [
        "2. OR lógico (||):"
      ],
      "metadata": {
        "id": "CLPubrytmftI"
      }
    },
    {
      "cell_type": "code",
      "source": [
        "public class OrOperator {\n",
        "    public static void main(String[] args) {\n",
        "        String cor = \"vermelho\";\n",
        "        if (cor.equals(\"azul\") || cor.equals(\"vermelho\")) {\n",
        "            System.out.println(\"A cor é azul ou vermelho.\");\n",
        "        }\n",
        "    }\n",
        "}\n"
      ],
      "metadata": {
        "id": "fngsAsgcmiTd"
      },
      "execution_count": null,
      "outputs": []
    },
    {
      "cell_type": "markdown",
      "source": [
        "3. NOT lógico (!):"
      ],
      "metadata": {
        "id": "hb1MRQe4mjwv"
      }
    },
    {
      "cell_type": "code",
      "source": [
        "public class NotOperator {\n",
        "    public static void main(String[] args) {\n",
        "        int a = 5;\n",
        "        if (!(a > 10)) {\n",
        "            System.out.println(\"A condição é falsa.\");\n",
        "        }\n",
        "    }\n",
        "}\n"
      ],
      "metadata": {
        "id": "x25NLN9rmmEe"
      },
      "execution_count": null,
      "outputs": []
    },
    {
      "cell_type": "markdown",
      "source": [
        "4. Igual (==):"
      ],
      "metadata": {
        "id": "gd1oUUvemnzf"
      }
    },
    {
      "cell_type": "code",
      "source": [
        "public class EqualOperator {\n",
        "    public static void main(String[] args) {\n",
        "        int a = 5;\n",
        "        String b = \"5\";\n",
        "        if (a == Integer.parseInt(b)) {\n",
        "            System.out.println(\"Os valores são iguais.\");\n",
        "        }\n",
        "    }\n",
        "}\n"
      ],
      "metadata": {
        "id": "dsnI86-smp7a"
      },
      "execution_count": null,
      "outputs": []
    },
    {
      "cell_type": "markdown",
      "source": [
        "5. Diferente (!=):"
      ],
      "metadata": {
        "id": "R2Glpq3SmrpH"
      }
    },
    {
      "cell_type": "code",
      "source": [
        "public class NotEqualOperator {\n",
        "    public static void main(String[] args) {\n",
        "        int a = 5;\n",
        "        int b = 10;\n",
        "        if (a != b) {\n",
        "            System.out.println(\"Os valores são diferentes.\");\n",
        "        }\n",
        "    }\n",
        "}\n"
      ],
      "metadata": {
        "id": "vgmNsAhXmtr6"
      },
      "execution_count": null,
      "outputs": []
    },
    {
      "cell_type": "markdown",
      "source": [
        "6. Maior que (>):"
      ],
      "metadata": {
        "id": "ogZHdMUSmvXu"
      }
    },
    {
      "cell_type": "code",
      "source": [
        "public class GreaterThanOperator {\n",
        "    public static void main(String[] args) {\n",
        "        int a = 10;\n",
        "        int b = 5;\n",
        "        if (a > b) {\n",
        "            System.out.println(\"A é maior que B.\");\n",
        "        }\n",
        "    }\n",
        "}\n"
      ],
      "metadata": {
        "id": "yPj5iiOpmx0Z"
      },
      "execution_count": null,
      "outputs": []
    },
    {
      "cell_type": "markdown",
      "source": [
        "7. Maior ou igual que (>=):"
      ],
      "metadata": {
        "id": "OT9xqfFJmz-g"
      }
    },
    {
      "cell_type": "code",
      "source": [
        "public class GreaterThanOrEqualOperator {\n",
        "    public static void main(String[] args) {\n",
        "        int a = 5;\n",
        "        int b = 5;\n",
        "        if (a >= b) {\n",
        "            System.out.println(\"A é maior ou igual a B.\");\n",
        "        }\n",
        "    }\n",
        "}\n"
      ],
      "metadata": {
        "id": "HCFuj86vm3Cx"
      },
      "execution_count": null,
      "outputs": []
    },
    {
      "cell_type": "markdown",
      "source": [
        "8. Menor que (<): "
      ],
      "metadata": {
        "id": "bfoulGhkm5hG"
      }
    },
    {
      "cell_type": "code",
      "source": [
        "public class LessThanOperator {\n",
        "    public static void main(String[] args) {\n",
        "        double a = 5.5;\n",
        "        double b = 10.0;\n",
        "        if (a < b) {\n",
        "            System.out.println(\"A é menor que B.\");\n",
        "        }\n",
        "    }\n",
        "}\n"
      ],
      "metadata": {
        "id": "qHhZCN1Qm7mJ"
      },
      "execution_count": null,
      "outputs": []
    },
    {
      "cell_type": "markdown",
      "source": [
        "9. Menor ou igual que (<=):"
      ],
      "metadata": {
        "id": "V-TpHIlWm-lN"
      }
    },
    {
      "cell_type": "code",
      "source": [
        "public class LessThanOrEqualOperator {\n",
        "    public static void main(String[] args) {\n",
        "        double a = 5.5;\n",
        "        double b = 5.5;\n",
        "        if (a <= b) {\n",
        "            System.out.println(\"A é menor ou igual a B.\");\n",
        "        }\n",
        "    }\n",
        "}\n"
      ],
      "metadata": {
        "id": "5k5iNzSsm8uW"
      },
      "execution_count": null,
      "outputs": []
    },
    {
      "cell_type": "markdown",
      "source": [
        "### CONDICIONAIS "
      ],
      "metadata": {
        "id": "fq9u9UW1nLwt"
      }
    },
    {
      "cell_type": "markdown",
      "source": [
        "A maioria das linguagens de programação tem condicionais lógicos semelhantes, embora a sintaxe possa variar. Alguns dos condicionais lógicos comuns incluem:\n",
        "\n",
        "1. IF: o condicional \"if\" é usado para executar um bloco de código se uma determinada condição for verdadeira.\n",
        "\n",
        "2. ELSE: o condicional \"else\" é usado para executar um bloco de código se a condição do \"if\" for falsa.\n",
        "\n",
        "3. ELSE IF: o condicional \"else if\" é usado para testar várias condições, executando o bloco de código correspondente à primeira condição verdadeira encontrada.\n",
        "\n",
        "4. SWITCH: o condicional \"switch\" é usado para testar várias condições e executar um bloco de código correspondente à primeira condição verdadeira encontrada.\n",
        "\n",
        "5. TERNÁRIO: o condicional ternário é usado para executar um bloco de código se uma condição for verdadeira e outro bloco de código se a condição for falsa.\n",
        "\n",
        "6. WHILE: o condicional \"while\" é usado para executar um bloco de código repetidamente enquanto uma condição for verdadeira.\n",
        "\n",
        "7. DO-WHILE: o condicional \"do-while\" é semelhante ao \"while\", mas garante que o bloco de código seja executado pelo menos uma vez antes de testar a condição.\n",
        "\n",
        "8. FOR: o condicional \"for\" é usado para executar um bloco de código repetidamente um determinado número de vezes, com base em uma variável de controle.\n",
        "\n",
        "9. FOREACH: o condicional \"foreach\" é usado para percorrer uma coleção de elementos e executar um bloco de código para cada elemento."
      ],
      "metadata": {
        "id": "8ZS54cqxnPe9"
      }
    },
    {
      "cell_type": "markdown",
      "source": [
        "#### Condicionais em Javascript"
      ],
      "metadata": {
        "id": "-BoybmYanwzE"
      }
    },
    {
      "cell_type": "markdown",
      "source": [
        "1. IF: "
      ],
      "metadata": {
        "id": "Meg12cztn2SL"
      }
    },
    {
      "cell_type": "code",
      "source": [
        "let num = 10;\n",
        "if (num > 5) {\n",
        "  console.log(\"O número é maior que 5.\");\n",
        "}\n"
      ],
      "metadata": {
        "id": "Ftg6hHvFn6SQ"
      },
      "execution_count": null,
      "outputs": []
    },
    {
      "cell_type": "markdown",
      "source": [
        "2. ELSE:"
      ],
      "metadata": {
        "id": "aVcQdfren8Pj"
      }
    },
    {
      "cell_type": "code",
      "source": [
        "let num = 2;\n",
        "if (num > 5) {\n",
        "  console.log(\"O número é maior que 5.\");\n",
        "} else {\n",
        "  console.log(\"O número é menor ou igual a 5.\");\n",
        "}\n"
      ],
      "metadata": {
        "id": "0DKbAg_Qn7L5"
      },
      "execution_count": null,
      "outputs": []
    },
    {
      "cell_type": "markdown",
      "source": [
        "3. ELSE IF"
      ],
      "metadata": {
        "id": "DPMTmPVPoBk7"
      }
    },
    {
      "cell_type": "code",
      "source": [
        "let num = 10;\n",
        "if (num < 5) {\n",
        "  console.log(\"O número é menor que 5.\");\n",
        "} else if (num > 10) {\n",
        "  console.log(\"O número é maior que 10.\");\n",
        "} else {\n",
        "  console.log(\"O número está entre 5 e 10.\");\n",
        "}\n"
      ],
      "metadata": {
        "id": "NcFxT2DMoDVv"
      },
      "execution_count": null,
      "outputs": []
    },
    {
      "cell_type": "markdown",
      "source": [
        "4. SWITCH"
      ],
      "metadata": {
        "id": "vvgik2e0oENr"
      }
    },
    {
      "cell_type": "code",
      "source": [
        "let cor = \"azul\";\n",
        "switch (cor) {\n",
        "  case \"vermelho\":\n",
        "    console.log(\"A cor é vermelha.\");\n",
        "    break;\n",
        "  case \"azul\":\n",
        "    console.log(\"A cor é azul.\");\n",
        "    break;\n",
        "  default:\n",
        "    console.log(\"A cor não é vermelha nem azul.\");\n",
        "}\n"
      ],
      "metadata": {
        "id": "N47-LNT7oHG3"
      },
      "execution_count": null,
      "outputs": []
    },
    {
      "cell_type": "markdown",
      "source": [
        "5. TERNÁRIO"
      ],
      "metadata": {
        "id": "F7AnsZ98oH_z"
      }
    },
    {
      "cell_type": "code",
      "source": [
        "let cor = \"azul\";\n",
        "switch (cor) {\n",
        "  case \"vermelho\":\n",
        "    console.log(\"A cor é vermelha.\");\n",
        "    break;\n",
        "  case \"azul\":\n",
        "    console.log(\"A cor é azul.\");\n",
        "    break;\n",
        "  default:\n",
        "    console.log(\"A cor não é vermelha nem azul.\");\n",
        "}\n"
      ],
      "metadata": {
        "id": "-DiMN1BRoMyf"
      },
      "execution_count": null,
      "outputs": []
    },
    {
      "cell_type": "markdown",
      "source": [
        "6. WHILE"
      ],
      "metadata": {
        "id": "o_5RqY05oOHr"
      }
    },
    {
      "cell_type": "code",
      "source": [
        "let i = 0;\n",
        "while (i < 5) {\n",
        "  console.log(\"O valor de i é: \" + i);\n",
        "  i++;\n",
        "}\n"
      ],
      "metadata": {
        "id": "UnA6Jv1IoQHv"
      },
      "execution_count": null,
      "outputs": []
    },
    {
      "cell_type": "markdown",
      "source": [
        "7. DO-WHILE"
      ],
      "metadata": {
        "id": "46qpx3pzoR6C"
      }
    },
    {
      "cell_type": "code",
      "source": [
        "let i = 0;\n",
        "do {\n",
        "  console.log(\"O valor de i é: \" + i);\n",
        "  i++;\n",
        "} while (i < 5);\n"
      ],
      "metadata": {
        "id": "SUQYH3B0oZwv"
      },
      "execution_count": null,
      "outputs": []
    },
    {
      "cell_type": "markdown",
      "source": [
        "8. FOR"
      ],
      "metadata": {
        "id": "vu88rC3joapi"
      }
    },
    {
      "cell_type": "code",
      "source": [
        "for (let i = 0; i < 5; i++) {\n",
        "  console.log(\"O valor de i é: \" + i);\n",
        "}\n"
      ],
      "metadata": {
        "id": "gdovuDPuodEu"
      },
      "execution_count": null,
      "outputs": []
    },
    {
      "cell_type": "markdown",
      "source": [
        "9. FOREACH"
      ],
      "metadata": {
        "id": "pxWMfB2oofNb"
      }
    },
    {
      "cell_type": "code",
      "source": [
        "let frutas = [\"maçã\", \"banana\", \"laranja\"];\n",
        "frutas.forEach(function(fruta) {\n",
        "  console.log(fruta);\n",
        "});\n"
      ],
      "metadata": {
        "id": "2jaVNzCTohrO"
      },
      "execution_count": null,
      "outputs": []
    },
    {
      "cell_type": "markdown",
      "source": [
        "#### Condicionais em python"
      ],
      "metadata": {
        "id": "-lz3QGvjoin7"
      }
    },
    {
      "cell_type": "markdown",
      "source": [
        "1. IF:"
      ],
      "metadata": {
        "id": "vF4gmgswow1_"
      }
    },
    {
      "cell_type": "code",
      "source": [
        "num = 10\n",
        "if num > 5:\n",
        "    print(\"O número é maior que 5.\")\n"
      ],
      "metadata": {
        "id": "eN2E9jo3oxRO"
      },
      "execution_count": null,
      "outputs": []
    },
    {
      "cell_type": "markdown",
      "source": [
        "2. ELSE"
      ],
      "metadata": {
        "id": "jmMWVVRso1Pa"
      }
    },
    {
      "cell_type": "code",
      "source": [
        "num = 2\n",
        "if num > 5:\n",
        "    print(\"O número é maior que 5.\")\n",
        "else:\n",
        "    print(\"O número é menor ou igual a 5.\")\n"
      ],
      "metadata": {
        "id": "LmsqbEsto39W"
      },
      "execution_count": null,
      "outputs": []
    },
    {
      "cell_type": "markdown",
      "source": [
        "3. ELSE IF(ELIF)"
      ],
      "metadata": {
        "id": "Qim1q4jso4qC"
      }
    },
    {
      "cell_type": "code",
      "source": [
        "num = 10\n",
        "if num < 5:\n",
        "    print(\"O número é menor que 5.\")\n",
        "elif num > 10:\n",
        "    print(\"O número é maior que 10.\")\n",
        "else:\n",
        "    print(\"O número está entre 5 e 10.\")\n"
      ],
      "metadata": {
        "id": "CxSE7OKfo9Fu"
      },
      "execution_count": null,
      "outputs": []
    },
    {
      "cell_type": "markdown",
      "source": [
        "4. SWITCH (NÃO HÁ SWITCH EM PYTHON, É USADO O IF/ELIF/ELSE):"
      ],
      "metadata": {
        "id": "8M-r3gLUo95S"
      }
    },
    {
      "cell_type": "code",
      "source": [
        "cor = \"azul\"\n",
        "if cor == \"vermelho\":\n",
        "    print(\"A cor é vermelha.\")\n",
        "elif cor == \"azul\":\n",
        "    print(\"A cor é azul.\")\n",
        "else:\n",
        "    print(\"A cor não é vermelha nem azul.\")\n"
      ],
      "metadata": {
        "id": "JZZXg8KKpBE9"
      },
      "execution_count": null,
      "outputs": []
    },
    {
      "cell_type": "markdown",
      "source": [
        "5. TERNÁRIO"
      ],
      "metadata": {
        "id": "2KM8TkEKpG68"
      }
    },
    {
      "cell_type": "code",
      "source": [
        "num = 10\n",
        "mensagem = \"O número é maior que 5.\" if num > 5 else \"O número é menor ou igual a 5.\"\n",
        "print(mensagem)\n"
      ],
      "metadata": {
        "id": "FSGS3GvRpIao"
      },
      "execution_count": null,
      "outputs": []
    },
    {
      "cell_type": "markdown",
      "source": [
        "6. WHILE"
      ],
      "metadata": {
        "id": "hwv_KT98pRKY"
      }
    },
    {
      "cell_type": "code",
      "source": [
        "i = 0\n",
        "while i < 5:\n",
        "    print(\"O valor de i é:\", i)\n",
        "    i += 1\n"
      ],
      "metadata": {
        "id": "QtxeqULdpUxA"
      },
      "execution_count": null,
      "outputs": []
    },
    {
      "cell_type": "markdown",
      "source": [
        "7. DO-WHILE (NÃO HÁ DO-WHILE EM PYTHON, PODE SER SIMULADO COM O WHILE):**negrito**"
      ],
      "metadata": {
        "id": "u9pDmFNMpJOs"
      }
    },
    {
      "cell_type": "code",
      "source": [
        "i = 0\n",
        "while True:\n",
        "    print(\"O valor de i é:\", i)\n",
        "    i += 1\n",
        "    if i >= 5:\n",
        "        break\n"
      ],
      "metadata": {
        "id": "wdoSzNIepM7w"
      },
      "execution_count": null,
      "outputs": []
    },
    {
      "cell_type": "markdown",
      "source": [
        "8. FOR "
      ],
      "metadata": {
        "id": "45bMw5DrpcBY"
      }
    },
    {
      "cell_type": "code",
      "source": [
        "for i in range(5):\n",
        "    print(\"O valor de i é:\", i)\n"
      ],
      "metadata": {
        "id": "wFmIYGx2pdnI"
      },
      "execution_count": null,
      "outputs": []
    },
    {
      "cell_type": "markdown",
      "source": [
        "9. FOREACH (NÃO HÁ FOREACH EM PYTHON, PODE SER SIMULADO COM O FOR E O MÉTODO 'FOR IN'):"
      ],
      "metadata": {
        "id": "rRolAmPCpf30"
      }
    },
    {
      "cell_type": "code",
      "source": [
        "frutas = [\"maçã\", \"banana\", \"laranja\"]\n",
        "for fruta in frutas:\n",
        "    print(fruta)\n"
      ],
      "metadata": {
        "id": "UyhVmznzpiL1"
      },
      "execution_count": null,
      "outputs": []
    },
    {
      "cell_type": "markdown",
      "source": [
        "#### Condicionais em Java"
      ],
      "metadata": {
        "id": "wgmGJ1GcpPRE"
      }
    },
    {
      "cell_type": "markdown",
      "source": [
        "1. IF"
      ],
      "metadata": {
        "id": "NB_OcD4ZppQr"
      }
    },
    {
      "cell_type": "code",
      "source": [
        "public class Main {\n",
        "  public static void main(String[] args) {\n",
        "    int num = 10;\n",
        "    if (num > 5) {\n",
        "      System.out.println(\"O número é maior que 5.\");\n",
        "    }\n",
        "  }\n",
        "}\n"
      ],
      "metadata": {
        "id": "ofvPSe3Opuap"
      },
      "execution_count": null,
      "outputs": []
    },
    {
      "cell_type": "markdown",
      "source": [
        "2. ELSE"
      ],
      "metadata": {
        "id": "1QyPrkDLpwz5"
      }
    },
    {
      "cell_type": "code",
      "source": [
        "public class Main {\n",
        "  public static void main(String[] args) {\n",
        "    int num = 2;\n",
        "    if (num > 5) {\n",
        "      System.out.println(\"O número é maior que 5.\");\n",
        "    } else {\n",
        "      System.out.println(\"O número é menor ou igual a 5.\");\n",
        "    }\n",
        "  }\n",
        "}\n"
      ],
      "metadata": {
        "id": "odwYE-tEpz0s"
      },
      "execution_count": null,
      "outputs": []
    },
    {
      "cell_type": "markdown",
      "source": [
        "3. ELSE IF "
      ],
      "metadata": {
        "id": "R1IE8glFp1Qo"
      }
    },
    {
      "cell_type": "code",
      "source": [
        "public class Main {\n",
        "  public static void main(String[] args) {\n",
        "    int num = 10;\n",
        "    if (num < 5) {\n",
        "      System.out.println(\"O número é menor que 5.\");\n",
        "    } else if (num > 10) {\n",
        "      System.out.println(\"O número é maior que 10.\");\n",
        "    } else {\n",
        "      System.out.println(\"O número está entre 5 e 10.\");\n",
        "    }\n",
        "  }\n",
        "}\n"
      ],
      "metadata": {
        "id": "F2mqly8ep3WN"
      },
      "execution_count": null,
      "outputs": []
    },
    {
      "cell_type": "markdown",
      "source": [
        "4. SWITCH "
      ],
      "metadata": {
        "id": "ENv2BtkDp4Y4"
      }
    },
    {
      "cell_type": "code",
      "source": [
        "public class Main {\n",
        "  public static void main(String[] args) {\n",
        "    String cor = \"azul\";\n",
        "    switch (cor) {\n",
        "      case \"vermelho\":\n",
        "        System.out.println(\"A cor é vermelha.\");\n",
        "        break;\n",
        "      case \"azul\":\n",
        "        System.out.println(\"A cor é azul.\");\n",
        "        break;\n",
        "      default:\n",
        "        System.out.println(\"A cor não é vermelha nem azul.\");\n",
        "    }\n",
        "  }\n",
        "}\n"
      ],
      "metadata": {
        "id": "CA6lFsokp-Rl"
      },
      "execution_count": null,
      "outputs": []
    },
    {
      "cell_type": "markdown",
      "source": [
        "5. TERNÁRIO "
      ],
      "metadata": {
        "id": "s0n3P7xsp_cZ"
      }
    },
    {
      "cell_type": "code",
      "source": [
        "public class Main {\n",
        "  public static void main(String[] args) {\n",
        "    int num = 10;\n",
        "    String mensagem = num > 5 ? \"O número é maior que 5.\" : \"O número é menor ou igual a 5.\";\n",
        "    System.out.println(mensagem);\n",
        "  }\n",
        "}\n"
      ],
      "metadata": {
        "id": "H3zEqBKYqBMd"
      },
      "execution_count": null,
      "outputs": []
    },
    {
      "cell_type": "markdown",
      "source": [
        "6. WHILE"
      ],
      "metadata": {
        "id": "eyiu5dXGqB6R"
      }
    },
    {
      "cell_type": "code",
      "source": [
        "public class Main {\n",
        "  public static void main(String[] args) {\n",
        "    int i = 0;\n",
        "    while (i < 5) {\n",
        "      System.out.println(\"O valor de i é: \" + i);\n",
        "      i++;\n",
        "    }\n",
        "  }\n",
        "}\n"
      ],
      "metadata": {
        "id": "1_5MX6sPqEoA"
      },
      "execution_count": null,
      "outputs": []
    },
    {
      "cell_type": "markdown",
      "source": [
        "7. DO-WHILE"
      ],
      "metadata": {
        "id": "_u7Zc6GIqFSI"
      }
    },
    {
      "cell_type": "code",
      "source": [
        "public class Main {\n",
        "  public static void main(String[] args) {\n",
        "    int i = 0;\n",
        "    do {\n",
        "      System.out.println(\"O valor de i é: \" + i);\n",
        "      i++;\n",
        "    } while (i < 5);\n",
        "  }\n",
        "}\n"
      ],
      "metadata": {
        "id": "Q0zIQxYrqH-0"
      },
      "execution_count": null,
      "outputs": []
    },
    {
      "cell_type": "markdown",
      "source": [
        "8. FOR"
      ],
      "metadata": {
        "id": "25JxjJQ9qZlv"
      }
    },
    {
      "cell_type": "code",
      "source": [
        "public class Main {\n",
        "  public static void main(String[] args) {\n",
        "    String[] frutas = {\"maçã\", \"banana\", \"laranja\"};\n",
        "    for (String fruta : frutas) {\n",
        "      System.out.println(fruta);\n",
        "    }\n",
        "  }\n",
        "}\n"
      ],
      "metadata": {
        "id": "4RdmeohQqMic"
      },
      "execution_count": null,
      "outputs": []
    },
    {
      "cell_type": "markdown",
      "source": [
        "9. FOREACH"
      ],
      "metadata": {
        "id": "ZG2SsVsdqLLI"
      }
    },
    {
      "cell_type": "code",
      "source": [
        "public class Main {\n",
        "  public static void main(String[] args) {\n",
        "    String[] frutas = {\"maçã\", \"banana\", \"laranja\"};\n",
        "    for (String fruta : frutas) {\n",
        "      System.out.println(fruta);\n",
        "    }\n",
        "  }\n",
        "}\n"
      ],
      "metadata": {
        "id": "ScIspGHtqbmH"
      },
      "execution_count": null,
      "outputs": []
    },
    {
      "cell_type": "markdown",
      "source": [
        "### FUNÇÕES E MÉTODOS BÁSICOS"
      ],
      "metadata": {
        "id": "f9t6SoGtqlbY"
      }
    },
    {
      "cell_type": "markdown",
      "source": [
        "#### FUNÇÕES EM JAVA"
      ],
      "metadata": {
        "id": "eIbPUY6kjCM9"
      }
    },
    {
      "cell_type": "markdown",
      "source": [
        "12. Função que recebe um número e retorna true se ele for positivo e false caso contrário:"
      ],
      "metadata": {
        "id": "rhdJu8RJwEiy"
      }
    },
    {
      "cell_type": "code",
      "source": [
        "public static boolean isPositive(int num) {\n",
        "    return num > 0;\n",
        "}\n"
      ],
      "metadata": {
        "id": "eWnkm8T_wFun"
      },
      "execution_count": null,
      "outputs": []
    },
    {
      "cell_type": "markdown",
      "source": [
        "13. Função que recebe uma string e retorna seu comprimento:"
      ],
      "metadata": {
        "id": "sGdzrJRlwHcy"
      }
    },
    {
      "cell_type": "code",
      "source": [
        "public static int getLength(String str) {\n",
        "    return str.length();\n",
        "}\n"
      ],
      "metadata": {
        "id": "moOZu6uJwJZ2"
      },
      "execution_count": null,
      "outputs": []
    },
    {
      "cell_type": "markdown",
      "source": [
        "14. Função que recebe um array de inteiros e retorna o maior valor:"
      ],
      "metadata": {
        "id": "9-dGs8rjwK0q"
      }
    },
    {
      "cell_type": "code",
      "source": [
        "public static int getMaxValue(int[] arr) {\n",
        "    int max = arr[0];\n",
        "    for (int i = 1; i < arr.length; i++) {\n",
        "        if (arr[i] > max) {\n",
        "            max = arr[i];\n",
        "        }\n",
        "    }\n",
        "    return max;\n",
        "}\n"
      ],
      "metadata": {
        "id": "mM7-9imUwNMm"
      },
      "execution_count": null,
      "outputs": []
    },
    {
      "cell_type": "markdown",
      "source": [
        "15. Função que recebe um array de inteiros e retorna a soma dos seus elementos:"
      ],
      "metadata": {
        "id": "vi_IJqPCwXEA"
      }
    },
    {
      "cell_type": "code",
      "source": [
        "public static int getSum(int[] arr) {\n",
        "    int sum = 0;\n",
        "    for (int i = 0; i < arr.length; i++) {\n",
        "        sum += arr[i];\n",
        "    }\n",
        "    return sum;\n",
        "}\n"
      ],
      "metadata": {
        "id": "Rc8AEoHawYs1"
      },
      "execution_count": null,
      "outputs": []
    },
    {
      "cell_type": "markdown",
      "source": [
        "16. Função que recebe uma matriz de inteiros e retorna a soma dos elementos de uma linha específica:"
      ],
      "metadata": {
        "id": "q30rUoPIwaCg"
      }
    },
    {
      "cell_type": "code",
      "source": [
        "public static int getRowSum(int[][] matrix, int row) {\n",
        "    int sum = 0;\n",
        "    for (int i = 0; i < matrix[row].length; i++) {\n",
        "        sum += matrix[row][i];\n",
        "    }\n",
        "    return sum;\n",
        "}\n"
      ],
      "metadata": {
        "id": "z_RDhuUNwb31"
      },
      "execution_count": null,
      "outputs": []
    },
    {
      "cell_type": "markdown",
      "source": [
        "17. Função que recebe uma matriz de inteiros e retorna a soma dos elementos de uma coluna específica:"
      ],
      "metadata": {
        "id": "hEe06YsdwdWH"
      }
    },
    {
      "cell_type": "code",
      "source": [
        "public static int getColumnSum(int[][] matrix, int column) {\n",
        "    int sum = 0;\n",
        "    for (int i = 0; i < matrix.length; i++) {\n",
        "        sum += matrix[i][column];\n",
        "    }\n",
        "    return sum;\n",
        "}\n"
      ],
      "metadata": {
        "id": "6BIX875OwgAE"
      },
      "execution_count": null,
      "outputs": []
    },
    {
      "cell_type": "markdown",
      "source": [
        "18. Função que recebe um array de inteiros e um valor x, e retorna true se x está presente no array e false caso contrário:"
      ],
      "metadata": {
        "id": "U6XJVHUwwhTH"
      }
    },
    {
      "cell_type": "code",
      "source": [
        "public static boolean contains(int[] arr, int x) {\n",
        "    for (int i = 0; i < arr.length; i++) {\n",
        "        if (arr[i] == x) {\n",
        "            return true;\n",
        "        }\n",
        "    }\n",
        "    return false;\n",
        "}\n"
      ],
      "metadata": {
        "id": "a4PO1kqiwlAw"
      },
      "execution_count": null,
      "outputs": []
    },
    {
      "cell_type": "markdown",
      "source": [
        "19. Função que recebe uma string e retorna um array com as suas palavras:"
      ],
      "metadata": {
        "id": "vFvT0H8swm9l"
      }
    },
    {
      "cell_type": "code",
      "source": [
        "public static String[] getWords(String str) {\n",
        "    return str.split(\" \");\n",
        "}\n"
      ],
      "metadata": {
        "id": "La7aSwWZwo-i"
      },
      "execution_count": null,
      "outputs": []
    },
    {
      "cell_type": "markdown",
      "source": [
        "20. Função que recebe uma matriz de inteiros e retorna true se todos os seus elementos são iguais e false caso contrário:"
      ],
      "metadata": {
        "id": "dC-3IGWuwqTt"
      }
    },
    {
      "cell_type": "code",
      "source": [
        "public static boolean areAllEqual(int[][] matrix) {\n",
        "    int first = matrix[0][0];\n",
        "    for (int i = 0; i < matrix.length; i++) {\n",
        "        for (int j = 0; j < matrix[i].length; j++) {\n",
        "            if (matrix[i][j] != first) {\n",
        "                return false;\n",
        "            }\n",
        "        }\n",
        "    }\n",
        "    return true;\n",
        "}\n"
      ],
      "metadata": {
        "id": "28RdJVqgwtKN"
      },
      "execution_count": null,
      "outputs": []
    },
    {
      "cell_type": "markdown",
      "source": [
        "21. Função que recebe um número e retorna true se ele for primo e false caso contrário:"
      ],
      "metadata": {
        "id": "p3UnS9-Uw0Bt"
      }
    },
    {
      "cell_type": "code",
      "source": [
        "public static boolean isPrime(int num) {\n",
        "    if (num <= 1) {\n",
        "        return false;\n",
        "    }\n",
        "    for (int i = 2; i <= Math.sqrt(num); i++) {\n",
        "        if (num % i == 0) {\n",
        "            return false;\n",
        "        }\n",
        "    }\n",
        "    return true;\n",
        "}\n"
      ],
      "metadata": {
        "id": "JiAldtotw3ng"
      },
      "execution_count": null,
      "outputs": []
    },
    {
      "cell_type": "markdown",
      "source": [
        "#### Métodos básicos em javascript"
      ],
      "metadata": {
        "id": "J_nmq_LzqrU-"
      }
    },
    {
      "cell_type": "markdown",
      "source": [
        "1. **alert():** exibe uma mensagem em uma caixa de diálogo."
      ],
      "metadata": {
        "id": "LcNaNkoCqvx3"
      }
    },
    {
      "cell_type": "code",
      "source": [
        "alert(\"Olá, mundo!\");\n"
      ],
      "metadata": {
        "id": "U9WJ65Cmq2F-"
      },
      "execution_count": null,
      "outputs": []
    },
    {
      "cell_type": "markdown",
      "source": [
        "2. **console.log():** exibe uma mensagem no console do navegador."
      ],
      "metadata": {
        "id": "6C3YeSeJq3mW"
      }
    },
    {
      "cell_type": "code",
      "source": [
        "console.log(\"Olá, mundo!\");\n"
      ],
      "metadata": {
        "id": "VEi6bH0Uq9S6"
      },
      "execution_count": null,
      "outputs": []
    },
    {
      "cell_type": "markdown",
      "source": [
        "3. **prompt():** exibe uma caixa de diálogo para o usuário inserir um valor."
      ],
      "metadata": {
        "id": "7Pdh4bLBrAGG"
      }
    },
    {
      "cell_type": "code",
      "source": [
        "let nome = prompt(\"Qual é o seu nome?\");\n",
        "console.log(\"Olá, \" + nome + \"!\");\n"
      ],
      "metadata": {
        "id": "b8lgVzJsrCJB"
      },
      "execution_count": null,
      "outputs": []
    },
    {
      "cell_type": "markdown",
      "source": [
        "4. **confirm():** exibe uma caixa de diálogo para o usuário confirmar ou cancelar uma ação."
      ],
      "metadata": {
        "id": "Wn0kZ_zSrEbV"
      }
    },
    {
      "cell_type": "code",
      "source": [
        "let confirmacao = confirm(\"Tem certeza de que deseja excluir este item?\");\n",
        "if (confirmacao) {\n",
        "  // excluir o item\n",
        "} else {\n",
        "  // cancelar a exclusão\n",
        "}\n"
      ],
      "metadata": {
        "id": "88UQy-xjrIFq"
      },
      "execution_count": null,
      "outputs": []
    },
    {
      "cell_type": "markdown",
      "source": [
        "5. **parseInt():** converte uma string em um número inteiro."
      ],
      "metadata": {
        "id": "IUGHCBBTrK2V"
      }
    },
    {
      "cell_type": "code",
      "source": [
        "let idade = parseInt(\"30\");\n",
        "console.log(idade); // 30\n"
      ],
      "metadata": {
        "id": "te-vFy-_rPN6"
      },
      "execution_count": null,
      "outputs": []
    },
    {
      "cell_type": "markdown",
      "source": [
        "6. **parseFloat():** converte uma string em um número de ponto flutuante."
      ],
      "metadata": {
        "id": "WVfNKohErSMY"
      }
    },
    {
      "cell_type": "code",
      "source": [
        "let preco = parseFloat(\"9.99\");\n",
        "console.log(preco); // 9.99\n"
      ],
      "metadata": {
        "id": "IAWuU1orrXHR"
      },
      "execution_count": null,
      "outputs": []
    },
    {
      "cell_type": "markdown",
      "source": [
        "7. **isNaN():** verifica se um valor não é um número."
      ],
      "metadata": {
        "id": "RvSD3kSKraaV"
      }
    },
    {
      "cell_type": "code",
      "source": [
        "let valor = \"ABC\";\n",
        "if (isNaN(valor)) {\n",
        "  console.log(\"O valor não é um número.\");\n",
        "} else {\n",
        "  console.log(\"O valor é um número.\");\n",
        "}\n"
      ],
      "metadata": {
        "id": "v_evG9Szrc04"
      },
      "execution_count": null,
      "outputs": []
    },
    {
      "cell_type": "markdown",
      "source": [
        "8. **length:**  retorna o comprimento de uma string."
      ],
      "metadata": {
        "id": "fMXxlqT5reWB"
      }
    },
    {
      "cell_type": "code",
      "source": [
        "let nome = \"João\";\n",
        "console.log(nome.length); // 4\n"
      ],
      "metadata": {
        "id": "BryQJaLXrhOZ"
      },
      "execution_count": null,
      "outputs": []
    },
    {
      "cell_type": "markdown",
      "source": [
        "9. **toUpperCase():** converte uma string em maiúsculas."
      ],
      "metadata": {
        "id": "-LKzasQmrkSc"
      }
    },
    {
      "cell_type": "code",
      "source": [
        "let nome = \"João\";\n",
        "console.log(nome.toUpperCase()); // \"JOÃO\"\n"
      ],
      "metadata": {
        "id": "3gRh2lhhrmmw"
      },
      "execution_count": null,
      "outputs": []
    },
    {
      "cell_type": "markdown",
      "source": [
        "10. **toLowerCase():** converte uma string em minúsculas."
      ],
      "metadata": {
        "id": "6AjtK3-UroJE"
      }
    },
    {
      "cell_type": "code",
      "source": [
        "let nome = \"JOÃO\";\n",
        "console.log(nome.toLowerCase()); // \"joão\"\n"
      ],
      "metadata": {
        "id": "7U7A5wMVr0RZ"
      },
      "execution_count": null,
      "outputs": []
    },
    {
      "cell_type": "markdown",
      "source": [
        "11. **slice():** extrai uma parte de uma string."
      ],
      "metadata": {
        "id": "mH4hZlJ9r1uU"
      }
    },
    {
      "cell_type": "code",
      "source": [
        "let nome = \"João da Silva\";\n",
        "console.log(nome.slice(0, 4)); // \"João\"\n",
        "console.log(nome.slice(5)); // \"da Silva\"\n"
      ],
      "metadata": {
        "id": "F2Re3aRfsOmX"
      },
      "execution_count": null,
      "outputs": []
    },
    {
      "cell_type": "markdown",
      "source": [
        "12. **indexOf():** retorna a posição de uma substring em uma string."
      ],
      "metadata": {
        "id": "NXdqeyqjsXTK"
      }
    },
    {
      "cell_type": "code",
      "source": [
        "let nome = \"João da Silva\";\n",
        "console.log(nome.indexOf(\"Silva\")); // 8\n"
      ],
      "metadata": {
        "id": "X4iBgXAMsbI-"
      },
      "execution_count": null,
      "outputs": []
    },
    {
      "cell_type": "markdown",
      "source": [
        "13. **replace():** substitui uma substring por outra em uma string."
      ],
      "metadata": {
        "id": "9XJMUkYWsdF6"
      }
    },
    {
      "cell_type": "code",
      "source": [
        "let nome = \"João da Silva\";\n",
        "console.log(nome.replace(\"Silva\", \"Souza\")); // \"João da Souza\"\n"
      ],
      "metadata": {
        "id": "4GG_YVX_sifu"
      },
      "execution_count": null,
      "outputs": []
    },
    {
      "cell_type": "markdown",
      "source": [
        "14. **split():** divide uma string em um array de substrings."
      ],
      "metadata": {
        "id": "OngO03q_sj05"
      }
    },
    {
      "cell_type": "code",
      "source": [
        "let nome = \"João da Silva\";\n",
        "let partes = nome.split(\" \");\n",
        "console.log(partes); // [\"João\", \"da\", \"Silva\"]\n"
      ],
      "metadata": {
        "id": "cddBO-89smt2"
      },
      "execution_count": null,
      "outputs": []
    },
    {
      "cell_type": "markdown",
      "source": [
        "15. **Date():** cria um objeto de data."
      ],
      "metadata": {
        "id": "RYqlrKjIso3C"
      }
    },
    {
      "cell_type": "code",
      "source": [
        "let hoje = new Date();\n",
        "console.log(hoje); // data atual\n"
      ],
      "metadata": {
        "id": "mmRT30W9stME"
      },
      "execution_count": null,
      "outputs": []
    },
    {
      "cell_type": "markdown",
      "source": [
        "16. **Math.random():** retorna um número aleatório entre 0 e 1."
      ],
      "metadata": {
        "id": "MIezKK0os6gn"
      }
    },
    {
      "cell_type": "code",
      "source": [
        "let aleatorio = Math.random();\n",
        "console.log(aleatorio); // número aleatório entre 0 e 1\n"
      ],
      "metadata": {
        "id": "FRUJVTRktDq3"
      },
      "execution_count": null,
      "outputs": []
    },
    {
      "cell_type": "markdown",
      "source": [
        "17. **Math.floor():** arredonda um número para baixo."
      ],
      "metadata": {
        "id": "rBwygkdGtExu"
      }
    },
    {
      "cell_type": "code",
      "source": [
        "let numero = 3.7;\n",
        "console.log(Math.floor(numero)); // 3\n"
      ],
      "metadata": {
        "id": "XVccHf-QtI1l"
      },
      "execution_count": null,
      "outputs": []
    },
    {
      "cell_type": "markdown",
      "source": [
        "18. **Math.ceil():** arredonda um número para cima."
      ],
      "metadata": {
        "id": "Q2TiI2katJkE"
      }
    },
    {
      "cell_type": "code",
      "source": [
        "let numero = 3.2;\n",
        "console.log(Math.ceil(numero)); // 4\n"
      ],
      "metadata": {
        "id": "nE76uNADtPKM"
      },
      "execution_count": null,
      "outputs": []
    },
    {
      "cell_type": "markdown",
      "source": [
        "19. **Math.round():** arredonda um número para o número inteiro mais próximo."
      ],
      "metadata": {
        "id": "HoHDjlADtRSE"
      }
    },
    {
      "cell_type": "code",
      "source": [
        "let numero = 3.5;\n",
        "console.log(Math.round(numero)); // 4\n"
      ],
      "metadata": {
        "id": "M10yX8BItVKl"
      },
      "execution_count": null,
      "outputs": []
    },
    {
      "cell_type": "markdown",
      "source": [
        "20. **setTimeout():** executa uma função após um determinado tempo."
      ],
      "metadata": {
        "id": "QnB2DnlptWgM"
      }
    },
    {
      "cell_type": "code",
      "source": [
        "function mensagem() {\n",
        "  console.log(\"Passaram-se 3 segundos.\");\n",
        "}\n",
        "\n",
        "setTimeout(mensagem, 3000); // espera 3 segundos e executa a função mensagem\n"
      ],
      "metadata": {
        "id": "lGD0iTv6tZfT"
      },
      "execution_count": null,
      "outputs": []
    },
    {
      "cell_type": "markdown",
      "source": [
        "21. **getElementById():** retorna um elemento HTML com base no ID fornecido."
      ],
      "metadata": {
        "id": "5KueHygag59d"
      }
    },
    {
      "cell_type": "code",
      "source": [
        "document.getElementById('id-do-elemento');\n"
      ],
      "metadata": {
        "id": "P-aZEtMehJJs"
      },
      "execution_count": null,
      "outputs": []
    },
    {
      "cell_type": "markdown",
      "source": [
        "22. **querySelector():** retorna o primeiro elemento HTML correspondente ao seletor fornecido."
      ],
      "metadata": {
        "id": "0YTnjud1hJ_K"
      }
    },
    {
      "cell_type": "code",
      "source": [
        "document.querySelector('.classe-do-elemento');\n"
      ],
      "metadata": {
        "id": "-Ggh5LtphQ7j"
      },
      "execution_count": null,
      "outputs": []
    },
    {
      "cell_type": "markdown",
      "source": [
        "23. **addEventListener():** adiciona um ouvinte de eventos a um elemento HTML."
      ],
      "metadata": {
        "id": "64BQIU5ThRvT"
      }
    },
    {
      "cell_type": "code",
      "source": [
        "elementoHTML.addEventListener('click', function() {\n",
        "  // ação a ser executada quando o elemento for clicado\n",
        "});\n"
      ],
      "metadata": {
        "id": "gKtDWuLahXuC"
      },
      "execution_count": null,
      "outputs": []
    },
    {
      "cell_type": "markdown",
      "source": [
        "24. **createElement():** cria um novo elemento HTML."
      ],
      "metadata": {
        "id": "prAS4dW0hZIq"
      }
    },
    {
      "cell_type": "code",
      "source": [
        "var novoElemento = document.createElement('div');\n"
      ],
      "metadata": {
        "id": "xtEhF8TohfSK"
      },
      "execution_count": null,
      "outputs": []
    },
    {
      "cell_type": "markdown",
      "source": [
        "25. **appendChild():** adiciona um novo elemento como filho de outro elemento HTML."
      ],
      "metadata": {
        "id": "umYNlnVFhhGy"
      }
    },
    {
      "cell_type": "code",
      "source": [
        "elementoPai.appendChild(novoElemento);\n"
      ],
      "metadata": {
        "id": "cLqj_ypBhmph"
      },
      "execution_count": null,
      "outputs": []
    },
    {
      "cell_type": "markdown",
      "source": [
        "26. **setAttribute():** define o valor de um atributo em um elemento HTML."
      ],
      "metadata": {
        "id": "TOE-5IAOhooh"
      }
    },
    {
      "cell_type": "code",
      "source": [
        "elementoHTML.setAttribute('atributo', 'valor');\n"
      ],
      "metadata": {
        "id": "HE2QOTr6htyZ"
      },
      "execution_count": null,
      "outputs": []
    },
    {
      "cell_type": "markdown",
      "source": [
        "27. **getAttribute():** retorna o valor de um atributo em um elemento HTML."
      ],
      "metadata": {
        "id": "NXKYEjxhhvaY"
      }
    },
    {
      "cell_type": "code",
      "source": [
        "elementoHTML.getAttribute('atributo');\n"
      ],
      "metadata": {
        "id": "ZDs960ZhhzXJ"
      },
      "execution_count": null,
      "outputs": []
    },
    {
      "cell_type": "markdown",
      "source": [
        "28. **classList.add():** adiciona uma ou mais classes a um elemento HTML."
      ],
      "metadata": {
        "id": "OCLnhPYOh1Gg"
      }
    },
    {
      "cell_type": "code",
      "source": [
        "elementoHTML.classList.add('classe-1', 'classe-2');\n"
      ],
      "metadata": {
        "id": "C3q3lrR4h7IY"
      },
      "execution_count": null,
      "outputs": []
    },
    {
      "cell_type": "markdown",
      "source": [
        "29. **classList.remove():** remove uma ou mais classes de um elemento HTML."
      ],
      "metadata": {
        "id": "tdGkOVdyh9oY"
      }
    },
    {
      "cell_type": "code",
      "source": [
        "elementoHTML.classList.remove('classe-1', 'classe-2');\n"
      ],
      "metadata": {
        "id": "-InIctNGiBAX"
      },
      "execution_count": null,
      "outputs": []
    },
    {
      "cell_type": "markdown",
      "source": [
        "30. **innerHTML:** define ou retorna o conteúdo HTML de um elemento."
      ],
      "metadata": {
        "id": "VRHCsXX9iDZn"
      }
    },
    {
      "cell_type": "code",
      "source": [
        "elementoHTML.innerHTML = '<p>Novo conteúdo HTML</p>';\n"
      ],
      "metadata": {
        "id": "bP5iT2G2iIm_"
      },
      "execution_count": null,
      "outputs": []
    }
  ]
}